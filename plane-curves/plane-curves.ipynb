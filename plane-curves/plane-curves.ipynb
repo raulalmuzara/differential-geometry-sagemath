{
 "cells": [
  {
   "cell_type": "markdown",
   "id": "b30c50f0-16e6-459e-bc0f-78a6f829c3ed",
   "metadata": {},
   "source": [
    "## Exercise of Plane Curves in SageMath - Differential Geometry\n",
    "#### Raul Almuzara"
   ]
  },
  {
   "cell_type": "markdown",
   "id": "b8846be5-9401-4f8c-90e5-7997224d259e",
   "metadata": {},
   "source": [
    "---------------------------"
   ]
  },
  {
   "cell_type": "markdown",
   "id": "c51bb99d-0f02-4b3a-9dc2-fbf71298e052",
   "metadata": {
    "tags": []
   },
   "source": [
    "### *Questions:*\n",
    "\n",
    "Consider the subset $C$ of $\\mathbb{R}^2$ given by $f(x,y)=0$ where \n",
    "$$\n",
    "f(x,y)=27 \\, x^{3} + 108 \\, x^{2} y + 144 \\, x y^{2} + 64 \\, y^{3} - 1620 \\, x^{2} + 4680 \\, x y - 255 \\, y^{2} + 6975 \\, x - 1950 \\, y - 15625.\n",
    "$$\n",
    "\n",
    "1. Find the unique point $P\\in C$ where both partial derivatives of $f$ vanish.\n",
    "2. Using the lines that pass through $P$, give a parametrization of $C$.\n",
    "3. Make a substitution to avoid definition problems and obtain a regular parametrization $\\mathbf{x}:\\mathbb{R}\\to\\mathbb{R}^2$ whose trace is in $C$.\n",
    "4. Is there any point of $C$ missing in the trace of the parametrization?\n",
    "5. Compute the curvature and find the vertices. Pick the one in the middle which we will call $Q$.\n",
    "6. Reparametrize the curve such that $\\mathbf{x}(0)=Q$ and $||\\mathbf{x}'(0)||=1$.\n",
    "7. Compute again the curvature $\\kappa$, compare $\\kappa(t)$ and $\\kappa(-t)$ and discuss the comparison geometrically.\n",
    "8. Compute the evolute and plot it along with the curve."
   ]
  },
  {
   "cell_type": "markdown",
   "id": "0ebf5e60-043a-46a7-85b4-dc20765c0c01",
   "metadata": {},
   "source": [
    "-------------------------"
   ]
  },
  {
   "cell_type": "markdown",
   "id": "29203a12-7f77-46f0-8d34-4e29dda8f055",
   "metadata": {},
   "source": [
    "### *Solution:*"
   ]
  },
  {
   "cell_type": "markdown",
   "id": "e46456a3-f1ca-4c4b-bf08-c822e4d1085b",
   "metadata": {},
   "source": [
    "We define the variables of the exercise and the function $f$."
   ]
  },
  {
   "cell_type": "code",
   "execution_count": 1,
   "id": "adaed564-9fa7-4964-bbe4-b1b5442bf98e",
   "metadata": {},
   "outputs": [],
   "source": [
    "var('x,y,t,a,b', domain='real')\n",
    "f = 27*x^3 + 108*x^2*y + 144*x*y^2 + 64*y^3 - 1620*x^2 + 4680*x*y - 255*y^2 + 6975*x - 1950*y - 15625"
   ]
  },
  {
   "cell_type": "markdown",
   "id": "84744f10-8a6e-4fb0-8cab-fec99813ef3b",
   "metadata": {},
   "source": [
    "----------------------------"
   ]
  },
  {
   "cell_type": "markdown",
   "id": "8d600474-a8ff-48d4-8751-a91ae85cef22",
   "metadata": {},
   "source": [
    "#### Question 1: Find the unique point $P\\in C$ where both partial derivatives of $f$ vanish."
   ]
  },
  {
   "cell_type": "markdown",
   "id": "e4868d83-b453-4cac-9a5a-1d9a501889e5",
   "metadata": {},
   "source": [
    "We apply the function `derivative` on $f$ to obtain the partial derivative with respect to $x$ which will be called `partialfx` and the partial derivative with respect to $y$ which will be called `partialfy`. Then, we solve the system formed by $f$ and its two partial derivatives equal to zero with the function `solve`."
   ]
  },
  {
   "cell_type": "code",
   "execution_count": 2,
   "id": "fd7db539-6252-4ae2-88da-d24ba52ef2ee",
   "metadata": {},
   "outputs": [
    {
     "data": {
      "text/plain": [
       "[[x == (-17/5), y == (-31/5)]]"
      ]
     },
     "execution_count": 2,
     "metadata": {},
     "output_type": "execute_result"
    }
   ],
   "source": [
    "partialfx = f.derivative(x)\n",
    "partialfy = f.derivative(y)\n",
    "solve([f,partialfx,partialfy],[x,y])"
   ]
  },
  {
   "cell_type": "markdown",
   "id": "1d1789bf-9f68-4b0b-ab9c-e776f0751b4c",
   "metadata": {},
   "source": [
    "Obtaining the unique point $P=\\left(-\\frac{17}{5},-\\frac{31}{5}\\right)$"
   ]
  },
  {
   "cell_type": "markdown",
   "id": "ce61791f-4382-4573-855d-3454c14dc34b",
   "metadata": {},
   "source": [
    "----------------------------"
   ]
  },
  {
   "cell_type": "markdown",
   "id": "92ff7509-4416-4149-8227-40f9576fbe51",
   "metadata": {},
   "source": [
    "#### Question 2: Using the lines that pass through $P$, give a parametrization of $C$."
   ]
  },
  {
   "cell_type": "markdown",
   "id": "66e0b7ad-001e-4ae2-80c0-79f05d5a18c0",
   "metadata": {},
   "source": [
    "The lines passing through $P$ (except the vertical line) are of the form"
   ]
  },
  {
   "cell_type": "markdown",
   "id": "d12d8acf-76d0-4240-af94-b4175550830a",
   "metadata": {},
   "source": [
    "$$y=-\\frac{31}{5}+t\\left(x+\\frac{17}{5}\\right),\\hspace{5mm} t\\in\\mathbb{R}$$"
   ]
  },
  {
   "cell_type": "markdown",
   "id": "805fbf24-27c3-4700-9d8f-2d6be1e4d206",
   "metadata": {},
   "source": [
    "We evaluate $f$ at these lines"
   ]
  },
  {
   "cell_type": "code",
   "execution_count": 3,
   "id": "a7604ef5-bef5-45f9-936e-73ca41f7994f",
   "metadata": {},
   "outputs": [
    {
     "data": {
      "text/html": [
       "<html>\\[\\newcommand{\\Bold}[1]{\\mathbf{#1}}\\frac{1}{125} \\, {\\left(320 \\, t^{3} x + 1088 \\, t^{3} + 720 \\, t^{2} x - 7227 \\, t^{2} + 540 \\, t x + 12636 \\, t + 135 \\, x - 12366\\right)} {\\left(5 \\, x + 17\\right)}^{2}\\]</html>"
      ],
      "text/latex": [
       "$$\\newcommand{\\Bold}[1]{\\mathbf{#1}}\\frac{1}{125} \\, {\\left(320 \\, t^{3} x + 1088 \\, t^{3} + 720 \\, t^{2} x - 7227 \\, t^{2} + 540 \\, t x + 12636 \\, t + 135 \\, x - 12366\\right)} {\\left(5 \\, x + 17\\right)}^{2}$$"
      ],
      "text/plain": [
       "1/125*(320*t^3*x + 1088*t^3 + 720*t^2*x - 7227*t^2 + 540*t*x + 12636*t + 135*x - 12366)*(5*x + 17)^2"
      ]
     },
     "metadata": {},
     "output_type": "display_data"
    }
   ],
   "source": [
    "y0 = -31/5 + t*(x+17/5)\n",
    "g = f(y=y0).factor()\n",
    "show(g)"
   ]
  },
  {
   "cell_type": "markdown",
   "id": "020131ef-02a4-4983-8b15-d54fc53a69da",
   "metadata": {},
   "source": [
    "With `solve`, the expression above is set equal to zero and we solve for $x$ as a function of $t$."
   ]
  },
  {
   "cell_type": "code",
   "execution_count": 4,
   "id": "a65623a4-cece-4605-9a7e-52831d8a8300",
   "metadata": {},
   "outputs": [
    {
     "data": {
      "text/html": [
       "<html>\\[\\newcommand{\\Bold}[1]{\\mathbf{#1}}-\\frac{1088 \\, t^{3} - 7227 \\, t^{2} + 12636 \\, t - 12366}{5 \\, {\\left(4 \\, t + 3\\right)}^{3}}\\]</html>"
      ],
      "text/latex": [
       "$$\\newcommand{\\Bold}[1]{\\mathbf{#1}}-\\frac{1088 \\, t^{3} - 7227 \\, t^{2} + 12636 \\, t - 12366}{5 \\, {\\left(4 \\, t + 3\\right)}^{3}}$$"
      ],
      "text/plain": [
       "-1/5*(1088*t^3 - 7227*t^2 + 12636*t - 12366)/(4*t + 3)^3"
      ]
     },
     "metadata": {},
     "output_type": "display_data"
    }
   ],
   "source": [
    "xa = solve(g,x)[0].rhs().factor()\n",
    "show(xa)"
   ]
  },
  {
   "cell_type": "markdown",
   "id": "37d777c3-d2a6-4243-b59c-bb3c6d88d10f",
   "metadata": {},
   "source": [
    "We evaluate the expression above at the lines to obtain an expression of $y$ as a function of $t$."
   ]
  },
  {
   "cell_type": "code",
   "execution_count": 5,
   "id": "fd1c0f0c-3e0c-4bad-9d9a-df18f5c53917",
   "metadata": {},
   "outputs": [
    {
     "data": {
      "text/html": [
       "<html>\\[\\newcommand{\\Bold}[1]{\\mathbf{#1}}\\frac{7691 \\, t^{3} - 15264 \\, t^{2} + 9477 \\, t - 837}{5 \\, {\\left(4 \\, t + 3\\right)}^{3}}\\]</html>"
      ],
      "text/latex": [
       "$$\\newcommand{\\Bold}[1]{\\mathbf{#1}}\\frac{7691 \\, t^{3} - 15264 \\, t^{2} + 9477 \\, t - 837}{5 \\, {\\left(4 \\, t + 3\\right)}^{3}}$$"
      ],
      "text/plain": [
       "1/5*(7691*t^3 - 15264*t^2 + 9477*t - 837)/(4*t + 3)^3"
      ]
     },
     "metadata": {},
     "output_type": "display_data"
    }
   ],
   "source": [
    "ya = y0(x=xa).factor()\n",
    "show(ya)"
   ]
  },
  {
   "cell_type": "markdown",
   "id": "bdc1ae52-6086-4fd8-bd99-1bca46bf0a77",
   "metadata": {},
   "source": [
    "Thus, a parametrization $(x(t),y(t))$ of $C$ is"
   ]
  },
  {
   "cell_type": "code",
   "execution_count": 6,
   "id": "a0ab754a-3d2e-46ad-832d-9f92e2af166b",
   "metadata": {},
   "outputs": [
    {
     "data": {
      "text/html": [
       "<html>\\[\\newcommand{\\Bold}[1]{\\mathbf{#1}}\\left(-\\frac{1088 \\, t^{3} - 7227 \\, t^{2} + 12636 \\, t - 12366}{5 \\, {\\left(4 \\, t + 3\\right)}^{3}},\\,\\frac{7691 \\, t^{3} - 15264 \\, t^{2} + 9477 \\, t - 837}{5 \\, {\\left(4 \\, t + 3\\right)}^{3}}\\right)\\]</html>"
      ],
      "text/latex": [
       "$$\\newcommand{\\Bold}[1]{\\mathbf{#1}}\\left(-\\frac{1088 \\, t^{3} - 7227 \\, t^{2} + 12636 \\, t - 12366}{5 \\, {\\left(4 \\, t + 3\\right)}^{3}},\\,\\frac{7691 \\, t^{3} - 15264 \\, t^{2} + 9477 \\, t - 837}{5 \\, {\\left(4 \\, t + 3\\right)}^{3}}\\right)$$"
      ],
      "text/plain": [
       "(-1/5*(1088*t^3 - 7227*t^2 + 12636*t - 12366)/(4*t + 3)^3, 1/5*(7691*t^3 - 15264*t^2 + 9477*t - 837)/(4*t + 3)^3)"
      ]
     },
     "metadata": {},
     "output_type": "display_data"
    }
   ],
   "source": [
    "V = vector([xa,ya]).apply_map(factor)\n",
    "show(V)"
   ]
  },
  {
   "cell_type": "markdown",
   "id": "cbb276ac-bf5b-4cc2-aa54-58b7c190cc21",
   "metadata": {},
   "source": [
    "----------------------------"
   ]
  },
  {
   "cell_type": "markdown",
   "id": "60c5fe8c-824f-4fa9-9c2e-401ecf503e59",
   "metadata": {},
   "source": [
    "#### Question 3: Make a substitution to avoid definition problems and obtain a regular parametrization $\\mathbf{x}:\\mathbb{R}\\to\\mathbb{R}^2$ whose trace is in $C$."
   ]
  },
  {
   "cell_type": "markdown",
   "id": "7dac625a-d808-463c-affa-b18b1b1a80dc",
   "metadata": {},
   "source": [
    "We see that the parametrization above has denominators which can vanish and may be problematic. In particular, the parametrization is not defined at $t=-\\frac{3}{4}$. First, we will apply the transformation $t\\rightarrow t-\\frac{3}{4}$ and the singularity will now be located at $t=0$."
   ]
  },
  {
   "cell_type": "code",
   "execution_count": 7,
   "id": "cfd453fc-3d89-43c8-938a-3444b2a5f2a4",
   "metadata": {},
   "outputs": [
    {
     "data": {
      "text/html": [
       "<html>\\[\\newcommand{\\Bold}[1]{\\mathbf{#1}}\\left(-\\frac{17408 \\, t^{3} - 154800 \\, t^{2} + 405000 \\, t - 421875}{5120 \\, t^{3}},\\,\\frac{492224 \\, t^{3} - 2084400 \\, t^{2} + 2902500 \\, t - 1265625}{20480 \\, t^{3}}\\right)\\]</html>"
      ],
      "text/latex": [
       "$$\\newcommand{\\Bold}[1]{\\mathbf{#1}}\\left(-\\frac{17408 \\, t^{3} - 154800 \\, t^{2} + 405000 \\, t - 421875}{5120 \\, t^{3}},\\,\\frac{492224 \\, t^{3} - 2084400 \\, t^{2} + 2902500 \\, t - 1265625}{20480 \\, t^{3}}\\right)$$"
      ],
      "text/plain": [
       "(-1/5120*(17408*t^3 - 154800*t^2 + 405000*t - 421875)/t^3, 1/20480*(492224*t^3 - 2084400*t^2 + 2902500*t - 1265625)/t^3)"
      ]
     },
     "metadata": {},
     "output_type": "display_data"
    }
   ],
   "source": [
    "V1=V(t=t-3/4).apply_map(factor)\n",
    "show(V1)"
   ]
  },
  {
   "cell_type": "markdown",
   "id": "3afd874d-3fe6-41f3-9349-880051fe6d82",
   "metadata": {},
   "source": [
    "Then, we apply the transformation $t\\rightarrow \\frac{1}{t}$ to remove the singularity."
   ]
  },
  {
   "cell_type": "code",
   "execution_count": 8,
   "id": "9e71f3c9-311a-44c3-a3e6-47b7be9df2b6",
   "metadata": {},
   "outputs": [
    {
     "data": {
      "text/html": [
       "<html>\\[\\newcommand{\\Bold}[1]{\\mathbf{#1}}\\left(\\frac{84375}{1024} \\, t^{3} - \\frac{10125}{128} \\, t^{2} + \\frac{1935}{64} \\, t - \\frac{17}{5},\\,-\\frac{253125}{4096} \\, t^{3} + \\frac{145125}{1024} \\, t^{2} - \\frac{26055}{256} \\, t + \\frac{7691}{320}\\right)\\]</html>"
      ],
      "text/latex": [
       "$$\\newcommand{\\Bold}[1]{\\mathbf{#1}}\\left(\\frac{84375}{1024} \\, t^{3} - \\frac{10125}{128} \\, t^{2} + \\frac{1935}{64} \\, t - \\frac{17}{5},\\,-\\frac{253125}{4096} \\, t^{3} + \\frac{145125}{1024} \\, t^{2} - \\frac{26055}{256} \\, t + \\frac{7691}{320}\\right)$$"
      ],
      "text/plain": [
       "(84375/1024*t^3 - 10125/128*t^2 + 1935/64*t - 17/5, -253125/4096*t^3 + 145125/1024*t^2 - 26055/256*t + 7691/320)"
      ]
     },
     "metadata": {},
     "output_type": "display_data"
    }
   ],
   "source": [
    "V2=V1(t=1/t).apply_map(factor)\n",
    "show(V2)"
   ]
  },
  {
   "cell_type": "markdown",
   "id": "b710c176-b219-4561-ab2d-88febe7b8aea",
   "metadata": {},
   "source": [
    "Graphically:"
   ]
  },
  {
   "cell_type": "code",
   "execution_count": 9,
   "id": "5ed21851-7044-4f77-a711-8cf9006c9c46",
   "metadata": {},
   "outputs": [
    {
     "data": {
      "image/png": "[encoded data removed]",
      "text/plain": [
       "Graphics object consisting of 1 graphics primitive"
      ]
     },
     "execution_count": 9,
     "metadata": {},
     "output_type": "execute_result"
    }
   ],
   "source": [
    "parametric_plot(V2,(t,0,1),axes_labels=['$x$','$y$'])"
   ]
  },
  {
   "cell_type": "markdown",
   "id": "f79413fb-2c5e-4210-a34c-689176e712b6",
   "metadata": {},
   "source": [
    "-----------------------------"
   ]
  },
  {
   "cell_type": "markdown",
   "id": "e595c88c-42f7-4f87-b1ea-6e1eae4dad43",
   "metadata": {},
   "source": [
    "#### Question 4: Is there any point of $C$ missing in the trace of the parametrization?"
   ]
  },
  {
   "cell_type": "markdown",
   "id": "1bcb9096-a980-46c0-a26b-97571a66a110",
   "metadata": {},
   "source": [
    "The point $P=\\left(-\\frac{17}{5},-\\frac{31}{5}\\right)$ does not seem to be in the trace of the parametrization despite the fact that $P\\in C$. We can see that the trace of the parametrization defines a function that maps each value of $x$ to a unique value of $y$. As $f(x,y)$ is a degree 3 polynomial in $y$, there are, at most, 3 possible ways to solve $y$ as a function of $x$."
   ]
  },
  {
   "cell_type": "code",
   "execution_count": 10,
   "id": "94f61f77-dd8a-443a-bc4c-b8bcd0839cbd",
   "metadata": {},
   "outputs": [
    {
     "data": {
      "text/html": [
       "<html>\\[\\newcommand{\\Bold}[1]{\\mathbf{#1}}y = -\\frac{{\\left({\\left(48 \\, x - 85\\right)}^{2} - 2304 \\, x^{2} - 99840 \\, x + 41600\\right)} {\\left(-i \\, \\sqrt{3} + 1\\right)}}{8192 \\, {\\left(-\\frac{1}{262144} \\, {\\left(48 \\, x - 85\\right)}^{3} - \\frac{27}{128} \\, x^{3} + \\frac{3}{4096} \\, {\\left(18 \\, x^{2} + 780 \\, x - 325\\right)} {\\left(48 \\, x - 85\\right)} + \\frac{405}{32} \\, x^{2} + \\frac{3375}{4096} \\, \\sqrt{100 \\, x^{2} - 175 \\, x + 98} {\\left(5 \\, x + 17\\right)} - \\frac{6975}{128} \\, x + \\frac{15625}{128}\\right)}^{\\frac{1}{3}}} - \\frac{1}{2} \\, {\\left(-\\frac{1}{262144} \\, {\\left(48 \\, x - 85\\right)}^{3} - \\frac{27}{128} \\, x^{3} + \\frac{3}{4096} \\, {\\left(18 \\, x^{2} + 780 \\, x - 325\\right)} {\\left(48 \\, x - 85\\right)} + \\frac{405}{32} \\, x^{2} + \\frac{3375}{4096} \\, \\sqrt{100 \\, x^{2} - 175 \\, x + 98} {\\left(5 \\, x + 17\\right)} - \\frac{6975}{128} \\, x + \\frac{15625}{128}\\right)}^{\\frac{1}{3}} {\\left(i \\, \\sqrt{3} + 1\\right)} - \\frac{3}{4} \\, x + \\frac{85}{64}\\]</html>"
      ],
      "text/latex": [
       "$$\\newcommand{\\Bold}[1]{\\mathbf{#1}}y = -\\frac{{\\left({\\left(48 \\, x - 85\\right)}^{2} - 2304 \\, x^{2} - 99840 \\, x + 41600\\right)} {\\left(-i \\, \\sqrt{3} + 1\\right)}}{8192 \\, {\\left(-\\frac{1}{262144} \\, {\\left(48 \\, x - 85\\right)}^{3} - \\frac{27}{128} \\, x^{3} + \\frac{3}{4096} \\, {\\left(18 \\, x^{2} + 780 \\, x - 325\\right)} {\\left(48 \\, x - 85\\right)} + \\frac{405}{32} \\, x^{2} + \\frac{3375}{4096} \\, \\sqrt{100 \\, x^{2} - 175 \\, x + 98} {\\left(5 \\, x + 17\\right)} - \\frac{6975}{128} \\, x + \\frac{15625}{128}\\right)}^{\\frac{1}{3}}} - \\frac{1}{2} \\, {\\left(-\\frac{1}{262144} \\, {\\left(48 \\, x - 85\\right)}^{3} - \\frac{27}{128} \\, x^{3} + \\frac{3}{4096} \\, {\\left(18 \\, x^{2} + 780 \\, x - 325\\right)} {\\left(48 \\, x - 85\\right)} + \\frac{405}{32} \\, x^{2} + \\frac{3375}{4096} \\, \\sqrt{100 \\, x^{2} - 175 \\, x + 98} {\\left(5 \\, x + 17\\right)} - \\frac{6975}{128} \\, x + \\frac{15625}{128}\\right)}^{\\frac{1}{3}} {\\left(i \\, \\sqrt{3} + 1\\right)} - \\frac{3}{4} \\, x + \\frac{85}{64}$$"
      ],
      "text/plain": [
       "y == -1/8192*((48*x - 85)^2 - 2304*x^2 - 99840*x + 41600)*(-I*sqrt(3) + 1)/(-1/262144*(48*x - 85)^3 - 27/128*x^3 + 3/4096*(18*x^2 + 780*x - 325)*(48*x - 85) + 405/32*x^2 + 3375/4096*sqrt(100*x^2 - 175*x + 98)*(5*x + 17) - 6975/128*x + 15625/128)^(1/3) - 1/2*(-1/262144*(48*x - 85)^3 - 27/128*x^3 + 3/4096*(18*x^2 + 780*x - 325)*(48*x - 85) + 405/32*x^2 + 3375/4096*sqrt(100*x^2 - 175*x + 98)*(5*x + 17) - 6975/128*x + 15625/128)^(1/3)*(I*sqrt(3) + 1) - 3/4*x + 85/64"
      ]
     },
     "metadata": {},
     "output_type": "display_data"
    },
    {
     "data": {
      "text/html": [
       "<html>\\[\\newcommand{\\Bold}[1]{\\mathbf{#1}}y = -\\frac{{\\left({\\left(48 \\, x - 85\\right)}^{2} - 2304 \\, x^{2} - 99840 \\, x + 41600\\right)} {\\left(i \\, \\sqrt{3} + 1\\right)}}{8192 \\, {\\left(-\\frac{1}{262144} \\, {\\left(48 \\, x - 85\\right)}^{3} - \\frac{27}{128} \\, x^{3} + \\frac{3}{4096} \\, {\\left(18 \\, x^{2} + 780 \\, x - 325\\right)} {\\left(48 \\, x - 85\\right)} + \\frac{405}{32} \\, x^{2} + \\frac{3375}{4096} \\, \\sqrt{100 \\, x^{2} - 175 \\, x + 98} {\\left(5 \\, x + 17\\right)} - \\frac{6975}{128} \\, x + \\frac{15625}{128}\\right)}^{\\frac{1}{3}}} - \\frac{1}{2} \\, {\\left(-\\frac{1}{262144} \\, {\\left(48 \\, x - 85\\right)}^{3} - \\frac{27}{128} \\, x^{3} + \\frac{3}{4096} \\, {\\left(18 \\, x^{2} + 780 \\, x - 325\\right)} {\\left(48 \\, x - 85\\right)} + \\frac{405}{32} \\, x^{2} + \\frac{3375}{4096} \\, \\sqrt{100 \\, x^{2} - 175 \\, x + 98} {\\left(5 \\, x + 17\\right)} - \\frac{6975}{128} \\, x + \\frac{15625}{128}\\right)}^{\\frac{1}{3}} {\\left(-i \\, \\sqrt{3} + 1\\right)} - \\frac{3}{4} \\, x + \\frac{85}{64}\\]</html>"
      ],
      "text/latex": [
       "$$\\newcommand{\\Bold}[1]{\\mathbf{#1}}y = -\\frac{{\\left({\\left(48 \\, x - 85\\right)}^{2} - 2304 \\, x^{2} - 99840 \\, x + 41600\\right)} {\\left(i \\, \\sqrt{3} + 1\\right)}}{8192 \\, {\\left(-\\frac{1}{262144} \\, {\\left(48 \\, x - 85\\right)}^{3} - \\frac{27}{128} \\, x^{3} + \\frac{3}{4096} \\, {\\left(18 \\, x^{2} + 780 \\, x - 325\\right)} {\\left(48 \\, x - 85\\right)} + \\frac{405}{32} \\, x^{2} + \\frac{3375}{4096} \\, \\sqrt{100 \\, x^{2} - 175 \\, x + 98} {\\left(5 \\, x + 17\\right)} - \\frac{6975}{128} \\, x + \\frac{15625}{128}\\right)}^{\\frac{1}{3}}} - \\frac{1}{2} \\, {\\left(-\\frac{1}{262144} \\, {\\left(48 \\, x - 85\\right)}^{3} - \\frac{27}{128} \\, x^{3} + \\frac{3}{4096} \\, {\\left(18 \\, x^{2} + 780 \\, x - 325\\right)} {\\left(48 \\, x - 85\\right)} + \\frac{405}{32} \\, x^{2} + \\frac{3375}{4096} \\, \\sqrt{100 \\, x^{2} - 175 \\, x + 98} {\\left(5 \\, x + 17\\right)} - \\frac{6975}{128} \\, x + \\frac{15625}{128}\\right)}^{\\frac{1}{3}} {\\left(-i \\, \\sqrt{3} + 1\\right)} - \\frac{3}{4} \\, x + \\frac{85}{64}$$"
      ],
      "text/plain": [
       "y == -1/8192*((48*x - 85)^2 - 2304*x^2 - 99840*x + 41600)*(I*sqrt(3) + 1)/(-1/262144*(48*x - 85)^3 - 27/128*x^3 + 3/4096*(18*x^2 + 780*x - 325)*(48*x - 85) + 405/32*x^2 + 3375/4096*sqrt(100*x^2 - 175*x + 98)*(5*x + 17) - 6975/128*x + 15625/128)^(1/3) - 1/2*(-1/262144*(48*x - 85)^3 - 27/128*x^3 + 3/4096*(18*x^2 + 780*x - 325)*(48*x - 85) + 405/32*x^2 + 3375/4096*sqrt(100*x^2 - 175*x + 98)*(5*x + 17) - 6975/128*x + 15625/128)^(1/3)*(-I*sqrt(3) + 1) - 3/4*x + 85/64"
      ]
     },
     "metadata": {},
     "output_type": "display_data"
    },
    {
     "data": {
      "text/html": [
       "<html>\\[\\newcommand{\\Bold}[1]{\\mathbf{#1}}y = -\\frac{3}{4} \\, x + \\frac{{\\left(48 \\, x - 85\\right)}^{2} - 2304 \\, x^{2} - 99840 \\, x + 41600}{4096 \\, {\\left(-\\frac{1}{262144} \\, {\\left(48 \\, x - 85\\right)}^{3} - \\frac{27}{128} \\, x^{3} + \\frac{3}{4096} \\, {\\left(18 \\, x^{2} + 780 \\, x - 325\\right)} {\\left(48 \\, x - 85\\right)} + \\frac{405}{32} \\, x^{2} + \\frac{3375}{4096} \\, \\sqrt{100 \\, x^{2} - 175 \\, x + 98} {\\left(5 \\, x + 17\\right)} - \\frac{6975}{128} \\, x + \\frac{15625}{128}\\right)}^{\\frac{1}{3}}} + {\\left(-\\frac{1}{262144} \\, {\\left(48 \\, x - 85\\right)}^{3} - \\frac{27}{128} \\, x^{3} + \\frac{3}{4096} \\, {\\left(18 \\, x^{2} + 780 \\, x - 325\\right)} {\\left(48 \\, x - 85\\right)} + \\frac{405}{32} \\, x^{2} + \\frac{3375}{4096} \\, \\sqrt{100 \\, x^{2} - 175 \\, x + 98} {\\left(5 \\, x + 17\\right)} - \\frac{6975}{128} \\, x + \\frac{15625}{128}\\right)}^{\\frac{1}{3}} + \\frac{85}{64}\\]</html>"
      ],
      "text/latex": [
       "$$\\newcommand{\\Bold}[1]{\\mathbf{#1}}y = -\\frac{3}{4} \\, x + \\frac{{\\left(48 \\, x - 85\\right)}^{2} - 2304 \\, x^{2} - 99840 \\, x + 41600}{4096 \\, {\\left(-\\frac{1}{262144} \\, {\\left(48 \\, x - 85\\right)}^{3} - \\frac{27}{128} \\, x^{3} + \\frac{3}{4096} \\, {\\left(18 \\, x^{2} + 780 \\, x - 325\\right)} {\\left(48 \\, x - 85\\right)} + \\frac{405}{32} \\, x^{2} + \\frac{3375}{4096} \\, \\sqrt{100 \\, x^{2} - 175 \\, x + 98} {\\left(5 \\, x + 17\\right)} - \\frac{6975}{128} \\, x + \\frac{15625}{128}\\right)}^{\\frac{1}{3}}} + {\\left(-\\frac{1}{262144} \\, {\\left(48 \\, x - 85\\right)}^{3} - \\frac{27}{128} \\, x^{3} + \\frac{3}{4096} \\, {\\left(18 \\, x^{2} + 780 \\, x - 325\\right)} {\\left(48 \\, x - 85\\right)} + \\frac{405}{32} \\, x^{2} + \\frac{3375}{4096} \\, \\sqrt{100 \\, x^{2} - 175 \\, x + 98} {\\left(5 \\, x + 17\\right)} - \\frac{6975}{128} \\, x + \\frac{15625}{128}\\right)}^{\\frac{1}{3}} + \\frac{85}{64}$$"
      ],
      "text/plain": [
       "y == -3/4*x + 1/4096*((48*x - 85)^2 - 2304*x^2 - 99840*x + 41600)/(-1/262144*(48*x - 85)^3 - 27/128*x^3 + 3/4096*(18*x^2 + 780*x - 325)*(48*x - 85) + 405/32*x^2 + 3375/4096*sqrt(100*x^2 - 175*x + 98)*(5*x + 17) - 6975/128*x + 15625/128)^(1/3) + (-1/262144*(48*x - 85)^3 - 27/128*x^3 + 3/4096*(18*x^2 + 780*x - 325)*(48*x - 85) + 405/32*x^2 + 3375/4096*sqrt(100*x^2 - 175*x + 98)*(5*x + 17) - 6975/128*x + 15625/128)^(1/3) + 85/64"
      ]
     },
     "metadata": {},
     "output_type": "display_data"
    }
   ],
   "source": [
    "show(solve([f],[y])[0])\n",
    "show(solve([f],[y])[1])\n",
    "show(solve([f],[y])[2])"
   ]
  },
  {
   "cell_type": "markdown",
   "id": "3b5d5504-7fb3-4e7e-9ed2-b8243fa1e949",
   "metadata": {},
   "source": [
    "Only the third one is valid because it is the only one that is purely real. This defines a function $y=y(x)$ whose graph is the same as the trace of the parametrization."
   ]
  },
  {
   "cell_type": "code",
   "execution_count": 11,
   "id": "7a2f44f7-3a8f-4fea-ba3c-0ba5aa1a1268",
   "metadata": {},
   "outputs": [
    {
     "data": {
      "image/png": "[encoded data removed]",
      "text/plain": [
       "Graphics object consisting of 1 graphics primitive"
      ]
     },
     "execution_count": 11,
     "metadata": {},
     "output_type": "execute_result"
    }
   ],
   "source": [
    "plot(solve([f],[y])[2].rhs(),-3,30)"
   ]
  },
  {
   "cell_type": "code",
   "execution_count": 12,
   "id": "41074985-b89f-4fd1-a874-26448e027d0f",
   "metadata": {},
   "outputs": [
    {
     "data": {
      "text/html": [
       "<html>\\[\\newcommand{\\Bold}[1]{\\mathbf{#1}}y = \\left(\\frac{7691}{320}\\right)\\]</html>"
      ],
      "text/latex": [
       "$$\\newcommand{\\Bold}[1]{\\mathbf{#1}}y = \\left(\\frac{7691}{320}\\right)$$"
      ],
      "text/plain": [
       "y == (7691/320)"
      ]
     },
     "metadata": {},
     "output_type": "display_data"
    }
   ],
   "source": [
    "show(solve([f],[y])[2](x=-17/5))"
   ]
  },
  {
   "cell_type": "markdown",
   "id": "1ec4a010-76d0-4d50-b642-cb1b2e7f115e",
   "metadata": {},
   "source": [
    "In particular, $y\\left(-\\frac{17}{5}\\right)=\\frac{7691}{320}\\neq -\\frac{31}{5}$, so the point $\\left(-\\frac{17}{5},\\frac{7691}{320}\\right)\\in C$ is in the trace of the parametrization to ensure its continuity (because it is differentiable). Nevertheless, $\\left(-\\frac{17}{5},-\\frac{31}{5}\\right)\\in C$ is not in the trace because $x=-\\frac{17}{5}$ can only be mapped to a single value of $y$."
   ]
  },
  {
   "cell_type": "markdown",
   "id": "68f454f8-80cb-467c-9e06-641d55f59fb3",
   "metadata": {},
   "source": [
    "This may happen when we try to parametrize a curve with lines, as we did. We may have the case where the common point ($P$) of the pencil of lines does not belong to the trace of the parametrization."
   ]
  },
  {
   "cell_type": "markdown",
   "id": "eb46fe1a-2ddf-4a0b-9613-398388a7bb32",
   "metadata": {},
   "source": [
    "--------------------------"
   ]
  },
  {
   "cell_type": "markdown",
   "id": "a70ebe18-2de6-429a-b03a-13f07e1aa388",
   "metadata": {},
   "source": [
    "#### Question 5: Compute the curvature and find the vertices. Pick the one in the middle which we will call $Q$."
   ]
  },
  {
   "cell_type": "markdown",
   "id": "00fc939b-41ce-441e-921b-c9da93593fb5",
   "metadata": {},
   "source": [
    "The formula for the curvature es"
   ]
  },
  {
   "cell_type": "markdown",
   "id": "62b7adaf-b829-4647-a3a9-6e277678078b",
   "metadata": {},
   "source": [
    "$$\\kappa(t)=\\frac{\\text{det}(\\mathbf{x}',\\mathbf{x}'')}{||\\mathbf{x}'(t)||^3}=\\frac{x'y''-x''y'}{||\\mathbf{x}'(t)||^3}$$"
   ]
  },
  {
   "cell_type": "markdown",
   "id": "6f41881d-a80d-4e48-a1ee-4dbbfa2645ac",
   "metadata": {},
   "source": [
    "If `V2` is the variable that contains the parametrization, we obtain its first derivative `V2prime`, the norm of the first derivative `V2primenorm` and the second derivative `V2primeprime`. After that, we apply the formula above."
   ]
  },
  {
   "cell_type": "code",
   "execution_count": 13,
   "id": "09260031-95d9-4220-a541-85d061b30105",
   "metadata": {},
   "outputs": [],
   "source": [
    "V2prime = V2.derivative(t)\n",
    "V2primenorm = V2prime.norm()\n",
    "V2primeprime = V2prime.derivative(t)\n",
    "k = (V2prime[0]*V2primeprime[1] - V2primeprime[0]*V2prime[1]) / (V2primenorm^3)"
   ]
  },
  {
   "cell_type": "code",
   "execution_count": 14,
   "id": "05b54ada-8225-4afa-80b8-e9d32a82f810",
   "metadata": {},
   "outputs": [
    {
     "data": {
      "text/html": [
       "<html>\\[\\newcommand{\\Bold}[1]{\\mathbf{#1}}-\\frac{163840 \\, {\\left({\\left(5625 \\, t^{2} - 3600 \\, t + 688\\right)} {\\left(225 \\, t - 172\\right)} - 9 \\, {\\left(5625 \\, t^{2} - 8600 \\, t + 3088\\right)} {\\left(25 \\, t - 8\\right)}\\right)}}{3 \\, {\\left(16 \\, {\\left(5625 \\, t^{2} - 3600 \\, t + 688\\right)}^{2} + 9 \\, {\\left(5625 \\, t^{2} - 8600 \\, t + 3088\\right)}^{2}\\right)}^{\\frac{3}{2}}}\\]</html>"
      ],
      "text/latex": [
       "$$\\newcommand{\\Bold}[1]{\\mathbf{#1}}-\\frac{163840 \\, {\\left({\\left(5625 \\, t^{2} - 3600 \\, t + 688\\right)} {\\left(225 \\, t - 172\\right)} - 9 \\, {\\left(5625 \\, t^{2} - 8600 \\, t + 3088\\right)} {\\left(25 \\, t - 8\\right)}\\right)}}{3 \\, {\\left(16 \\, {\\left(5625 \\, t^{2} - 3600 \\, t + 688\\right)}^{2} + 9 \\, {\\left(5625 \\, t^{2} - 8600 \\, t + 3088\\right)}^{2}\\right)}^{\\frac{3}{2}}}$$"
      ],
      "text/plain": [
       "-163840/3*((5625*t^2 - 3600*t + 688)*(225*t - 172) - 9*(5625*t^2 - 8600*t + 3088)*(25*t - 8))/(16*(5625*t^2 - 3600*t + 688)^2 + 9*(5625*t^2 - 8600*t + 3088)^2)^(3/2)"
      ]
     },
     "metadata": {},
     "output_type": "display_data"
    }
   ],
   "source": [
    "show(k)"
   ]
  },
  {
   "cell_type": "code",
   "execution_count": 15,
   "id": "98ac97e1-5b75-4edc-bb19-4c05102af3a0",
   "metadata": {},
   "outputs": [
    {
     "data": {
      "image/png": "[encoded data removed]",
      "text/plain": [
       "Graphics object consisting of 1 graphics primitive"
      ]
     },
     "execution_count": 15,
     "metadata": {},
     "output_type": "execute_result"
    }
   ],
   "source": [
    "plot(k,-1,2,axes_labels=['$t$','$k$'],title='Curvature')"
   ]
  },
  {
   "cell_type": "markdown",
   "id": "2334e8d0-8823-4a07-80a8-94f9105f15a6",
   "metadata": {},
   "source": [
    "The vertices are the points of the curve with parameter $t$ such that $\\kappa'(t)=0$. We compute them with the function `solve`."
   ]
  },
  {
   "cell_type": "code",
   "execution_count": 16,
   "id": "42e08d72-194f-4cfb-aede-fca98c22190f",
   "metadata": {},
   "outputs": [
    {
     "data": {
      "text/html": [
       "<html>\\[\\newcommand{\\Bold}[1]{\\mathbf{#1}}\\left[t = -\\frac{16}{75} \\cdot 5^{\\frac{1}{4}} + \\frac{12}{25}, t = \\frac{16}{75} \\cdot 5^{\\frac{1}{4}} + \\frac{12}{25}, t = \\left(\\frac{12}{25}\\right)\\right]\\]</html>"
      ],
      "text/latex": [
       "$$\\newcommand{\\Bold}[1]{\\mathbf{#1}}\\left[t = -\\frac{16}{75} \\cdot 5^{\\frac{1}{4}} + \\frac{12}{25}, t = \\frac{16}{75} \\cdot 5^{\\frac{1}{4}} + \\frac{12}{25}, t = \\left(\\frac{12}{25}\\right)\\right]$$"
      ],
      "text/plain": [
       "[t == -16/75*5^(1/4) + 12/25, t == 16/75*5^(1/4) + 12/25, t == (12/25)]"
      ]
     },
     "metadata": {},
     "output_type": "display_data"
    }
   ],
   "source": [
    "show(solve([k.derivative(t)],[t]))"
   ]
  },
  {
   "cell_type": "markdown",
   "id": "ac89eabc-efbd-4701-b8e8-68bde62fc532",
   "metadata": {},
   "source": [
    "We see that $\\kappa'(t)=0$ in the following three points:"
   ]
  },
  {
   "cell_type": "code",
   "execution_count": 17,
   "id": "16e7d3e4-5343-403e-bf98-853c7e376e3a",
   "metadata": {},
   "outputs": [
    {
     "data": {
      "text/html": [
       "<html>\\[\\newcommand{\\Bold}[1]{\\mathbf{#1}}\\left(-0.238875935336996,\\,11.0644118671270\\right)\\]</html>"
      ],
      "text/latex": [
       "$$\\newcommand{\\Bold}[1]{\\mathbf{#1}}\\left(-0.238875935336996,\\,11.0644118671270\\right)$$"
      ],
      "text/plain": [
       "(-0.238875935336996, 11.0644118671270)"
      ]
     },
     "metadata": {},
     "output_type": "display_data"
    },
    {
     "data": {
      "text/html": [
       "<html>\\[\\newcommand{\\Bold}[1]{\\mathbf{#1}}\\left(2.00000000000000,\\,1.00000000000000\\right)\\]</html>"
      ],
      "text/latex": [
       "$$\\newcommand{\\Bold}[1]{\\mathbf{#1}}\\left(2.00000000000000,\\,1.00000000000000\\right)$$"
      ],
      "text/plain": [
       "(2.00000000000000, 1.00000000000000)"
      ]
     },
     "metadata": {},
     "output_type": "display_data"
    },
    {
     "data": {
      "text/html": [
       "<html>\\[\\newcommand{\\Bold}[1]{\\mathbf{#1}}\\left(12.2887206543362,\\,1.66871442487204\\right)\\]</html>"
      ],
      "text/latex": [
       "$$\\newcommand{\\Bold}[1]{\\mathbf{#1}}\\left(12.2887206543362,\\,1.66871442487204\\right)$$"
      ],
      "text/plain": [
       "(12.2887206543362, 1.66871442487204)"
      ]
     },
     "metadata": {},
     "output_type": "display_data"
    }
   ],
   "source": [
    "show(N(V2(t=-16/75*5^(1/4) + 12/25)))\n",
    "show(N(V2(t=12/25)))\n",
    "show(N(V2(t=16/75*5^(1/4) + 12/25)))"
   ]
  },
  {
   "cell_type": "markdown",
   "id": "71c19668-c741-46f2-9f76-2b47be8cc8a5",
   "metadata": {},
   "source": [
    "Among those three, the point in the middle is the one obtained with parameter $t=\\frac{12}{25}$ according to the previous parametrization. This gives the point $Q=(2,1)$ where the derivative of the curvature vanishes regardless of the chosen parametrization."
   ]
  },
  {
   "cell_type": "markdown",
   "id": "819deb27-2d54-40cc-b110-0187e2fc4093",
   "metadata": {},
   "source": [
    "-------------------------------"
   ]
  },
  {
   "cell_type": "markdown",
   "id": "ba7aa416-14ad-4e92-9549-c015fd5b90c2",
   "metadata": {},
   "source": [
    "#### Question 6: Reparametrize the curve such that $\\mathbf{x}(0)=Q$ and $||\\mathbf{x}'(0)||=1$."
   ]
  },
  {
   "cell_type": "markdown",
   "id": "1a85ee96-2aa7-40cd-a9c2-6c2c70f63a82",
   "metadata": {},
   "source": [
    "In order to change the initial point and the initial speed, we use a transformation of the form $t\\rightarrow at+b$. We apply this transformation and we evaluate the curve at $t=0$."
   ]
  },
  {
   "cell_type": "code",
   "execution_count": 18,
   "id": "5090ad5c-e373-4d59-a932-6d227e483f73",
   "metadata": {},
   "outputs": [
    {
     "data": {
      "text/html": [
       "<html>\\[\\newcommand{\\Bold}[1]{\\mathbf{#1}}\\left(\\frac{84375}{1024} \\, b^{3} - \\frac{10125}{128} \\, b^{2} + \\frac{1935}{64} \\, b - \\frac{17}{5},\\,-\\frac{253125}{4096} \\, b^{3} + \\frac{145125}{1024} \\, b^{2} - \\frac{26055}{256} \\, b + \\frac{7691}{320}\\right)\\]</html>"
      ],
      "text/latex": [
       "$$\\newcommand{\\Bold}[1]{\\mathbf{#1}}\\left(\\frac{84375}{1024} \\, b^{3} - \\frac{10125}{128} \\, b^{2} + \\frac{1935}{64} \\, b - \\frac{17}{5},\\,-\\frac{253125}{4096} \\, b^{3} + \\frac{145125}{1024} \\, b^{2} - \\frac{26055}{256} \\, b + \\frac{7691}{320}\\right)$$"
      ],
      "text/plain": [
       "(84375/1024*b^3 - 10125/128*b^2 + 1935/64*b - 17/5, -253125/4096*b^3 + 145125/1024*b^2 - 26055/256*b + 7691/320)"
      ]
     },
     "metadata": {},
     "output_type": "display_data"
    }
   ],
   "source": [
    "show(V2(t=a*t+b)(t=0))"
   ]
  },
  {
   "cell_type": "markdown",
   "id": "5c5cce19-7b71-42aa-9d18-3b43d769fba9",
   "metadata": {},
   "source": [
    "We just got an expression that allows us to obtain $b$ if we consider that the initial point is $Q=(2,1)$, setting both components equal to $2$ and $1$, respectively. We use the function `solve`."
   ]
  },
  {
   "cell_type": "code",
   "execution_count": 19,
   "id": "bed83b6a-d9e9-4b3a-b3fd-6548675a8feb",
   "metadata": {},
   "outputs": [
    {
     "data": {
      "text/html": [
       "<html>\\[\\newcommand{\\Bold}[1]{\\mathbf{#1}}\\left[\\left[b = \\left(\\frac{12}{25}\\right)\\right]\\right]\\]</html>"
      ],
      "text/latex": [
       "$$\\newcommand{\\Bold}[1]{\\mathbf{#1}}\\left[\\left[b = \\left(\\frac{12}{25}\\right)\\right]\\right]$$"
      ],
      "text/plain": [
       "[[b == (12/25)]]"
      ]
     },
     "metadata": {},
     "output_type": "display_data"
    }
   ],
   "source": [
    "show(solve([V2(t=a*t+b)(t=0)[0]==2,V2(t=a*t+b)(t=0)[1]==1],[b]))"
   ]
  },
  {
   "cell_type": "markdown",
   "id": "49dc0b1e-8521-4f26-81df-9dd79a45baf5",
   "metadata": {},
   "source": [
    "Therefore, transformations of the form $t\\rightarrow at+\\frac{12}{25}$ ensure that $\\mathbf{x}(0)=(2,1)$. With the reparametrization, we compute $||\\mathbf{x}'(0)||$. "
   ]
  },
  {
   "cell_type": "code",
   "execution_count": 20,
   "id": "b8cee94a-cbb5-45e3-9764-5388102fa839",
   "metadata": {},
   "outputs": [
    {
     "data": {
      "text/html": [
       "<html>\\[\\newcommand{\\Bold}[1]{\\mathbf{#1}}\\frac{225}{16} \\, {\\left| a \\right|}\\]</html>"
      ],
      "text/latex": [
       "$$\\newcommand{\\Bold}[1]{\\mathbf{#1}}\\frac{225}{16} \\, {\\left| a \\right|}$$"
      ],
      "text/plain": [
       "225/16*abs(a)"
      ]
     },
     "metadata": {},
     "output_type": "display_data"
    }
   ],
   "source": [
    "show(V2(t=a*t+12/25).derivative(t)(t=0).norm())"
   ]
  },
  {
   "cell_type": "markdown",
   "id": "8b00a0fd-1599-425b-9e1a-74edb359504d",
   "metadata": {},
   "source": [
    "Setting speed equal to $1$ at the initial point, we solve for $a$."
   ]
  },
  {
   "cell_type": "code",
   "execution_count": 21,
   "id": "5c3dfe06-add5-4577-bec2-26799fbbfc90",
   "metadata": {},
   "outputs": [
    {
     "data": {
      "text/html": [
       "<html>\\[\\newcommand{\\Bold}[1]{\\mathbf{#1}}\\left[{\\left| a \\right|} = \\left(\\frac{16}{225}\\right)\\right]\\]</html>"
      ],
      "text/latex": [
       "$$\\newcommand{\\Bold}[1]{\\mathbf{#1}}\\left[{\\left| a \\right|} = \\left(\\frac{16}{225}\\right)\\right]$$"
      ],
      "text/plain": [
       "[abs(a) == (16/225)]"
      ]
     },
     "metadata": {},
     "output_type": "display_data"
    }
   ],
   "source": [
    "show(solve([V2(t=a*t+12/25).derivative(t)(t=0).norm()==1],[a]))"
   ]
  },
  {
   "cell_type": "markdown",
   "id": "acf0b010-2dbb-4489-94c1-1cae471f42a2",
   "metadata": {},
   "source": [
    "Thus, we take $a=\\frac{16}{225}$ along with $b=\\frac{12}{25}$ and we get the transformation $t\\rightarrow \\frac{16}{225}t+\\frac{12}{25}$. This defines a reparametrization such that $\\mathbf{x}(0)=Q=(2,1)$ and $||\\mathbf{x}'(0)||=1$."
   ]
  },
  {
   "cell_type": "code",
   "execution_count": 22,
   "id": "3e7f8a0d-aec5-4f4d-9527-a2e8fb921612",
   "metadata": {},
   "outputs": [
    {
     "data": {
      "text/html": [
       "<html>\\[\\newcommand{\\Bold}[1]{\\mathbf{#1}}\\left(2,\\,1\\right)\\]</html>"
      ],
      "text/latex": [
       "$$\\newcommand{\\Bold}[1]{\\mathbf{#1}}\\left(2,\\,1\\right)$$"
      ],
      "text/plain": [
       "(2, 1)"
      ]
     },
     "metadata": {},
     "output_type": "display_data"
    },
    {
     "data": {
      "text/html": [
       "<html>\\[\\newcommand{\\Bold}[1]{\\mathbf{#1}}1\\]</html>"
      ],
      "text/latex": [
       "$$\\newcommand{\\Bold}[1]{\\mathbf{#1}}1$$"
      ],
      "text/plain": [
       "1"
      ]
     },
     "metadata": {},
     "output_type": "display_data"
    }
   ],
   "source": [
    "show(V2(t=(16/225)*t+(12/25))(t=0)) #Initial point\n",
    "show(V2(t=(16/225)*t+12/25).derivative(t)(t=0).norm()) #Initial speed"
   ]
  },
  {
   "cell_type": "markdown",
   "id": "6b391931-700f-4cb8-bc98-e76401306d04",
   "metadata": {},
   "source": [
    "----------------------------"
   ]
  },
  {
   "cell_type": "markdown",
   "id": "9d0b9926-211a-433c-856d-8799d3bcd277",
   "metadata": {},
   "source": [
    "#### Question 7: Compute again the curvature $\\kappa$, compare $\\kappa(t)$ and $\\kappa(-t)$ and discuss the comparison geometrically."
   ]
  },
  {
   "cell_type": "markdown",
   "id": "c1590ca9-ffd5-4af0-bb4a-b4a0319778ee",
   "metadata": {},
   "source": [
    "The reparametrized curve is"
   ]
  },
  {
   "cell_type": "code",
   "execution_count": 23,
   "id": "6fd4a3c8-fdf4-464c-a53a-b1fe2acac2ba",
   "metadata": {},
   "outputs": [
    {
     "data": {
      "text/html": [
       "<html>\\[\\newcommand{\\Bold}[1]{\\mathbf{#1}}\\left(\\frac{1}{2160} \\, {\\left(4 \\, t + 27\\right)}^{3} - \\frac{1}{40} \\, {\\left(4 \\, t + 27\\right)}^{2} + \\frac{43}{20} \\, t + \\frac{889}{80},\\,-\\frac{1}{2880} \\, {\\left(4 \\, t + 27\\right)}^{3} + \\frac{43}{960} \\, {\\left(4 \\, t + 27\\right)}^{2} - \\frac{579}{80} \\, t - \\frac{3971}{160}\\right)\\]</html>"
      ],
      "text/latex": [
       "$$\\newcommand{\\Bold}[1]{\\mathbf{#1}}\\left(\\frac{1}{2160} \\, {\\left(4 \\, t + 27\\right)}^{3} - \\frac{1}{40} \\, {\\left(4 \\, t + 27\\right)}^{2} + \\frac{43}{20} \\, t + \\frac{889}{80},\\,-\\frac{1}{2880} \\, {\\left(4 \\, t + 27\\right)}^{3} + \\frac{43}{960} \\, {\\left(4 \\, t + 27\\right)}^{2} - \\frac{579}{80} \\, t - \\frac{3971}{160}\\right)$$"
      ],
      "text/plain": [
       "(1/2160*(4*t + 27)^3 - 1/40*(4*t + 27)^2 + 43/20*t + 889/80, -1/2880*(4*t + 27)^3 + 43/960*(4*t + 27)^2 - 579/80*t - 3971/160)"
      ]
     },
     "metadata": {},
     "output_type": "display_data"
    }
   ],
   "source": [
    "reparam = V2(t=(16/225)*t+(12/25))\n",
    "reparamprime = reparam.derivative(t)\n",
    "reparamprimenorm = reparamprime.norm()\n",
    "reparamprimeprime = reparamprime.derivative(t)\n",
    "show(reparam)"
   ]
  },
  {
   "cell_type": "markdown",
   "id": "f3c9b04e-a635-475f-85e7-032d402db427",
   "metadata": {},
   "source": [
    "Its curvature $\\kappa(t)$ is"
   ]
  },
  {
   "cell_type": "code",
   "execution_count": 24,
   "id": "e823148b-60a5-46eb-b18e-792e45a395b8",
   "metadata": {},
   "outputs": [
    {
     "data": {
      "text/html": [
       "<html>\\[\\newcommand{\\Bold}[1]{\\mathbf{#1}}\\frac{69120 \\, {\\left({\\left({\\left(4 \\, t + 27\\right)}^{2} - 344 \\, t - 585\\right)} {\\left(4 \\, t + 9\\right)} - 4 \\, {\\left({\\left(4 \\, t + 27\\right)}^{2} - 144 \\, t - 585\\right)} {\\left(t - 4\\right)}\\right)}}{{\\left(16 \\, {\\left({\\left(4 \\, t + 27\\right)}^{2} - 144 \\, t - 585\\right)}^{2} + 9 \\, {\\left({\\left(4 \\, t + 27\\right)}^{2} - 344 \\, t - 585\\right)}^{2}\\right)}^{\\frac{3}{2}}}\\]</html>"
      ],
      "text/latex": [
       "$$\\newcommand{\\Bold}[1]{\\mathbf{#1}}\\frac{69120 \\, {\\left({\\left({\\left(4 \\, t + 27\\right)}^{2} - 344 \\, t - 585\\right)} {\\left(4 \\, t + 9\\right)} - 4 \\, {\\left({\\left(4 \\, t + 27\\right)}^{2} - 144 \\, t - 585\\right)} {\\left(t - 4\\right)}\\right)}}{{\\left(16 \\, {\\left({\\left(4 \\, t + 27\\right)}^{2} - 144 \\, t - 585\\right)}^{2} + 9 \\, {\\left({\\left(4 \\, t + 27\\right)}^{2} - 344 \\, t - 585\\right)}^{2}\\right)}^{\\frac{3}{2}}}$$"
      ],
      "text/plain": [
       "69120*(((4*t + 27)^2 - 344*t - 585)*(4*t + 9) - 4*((4*t + 27)^2 - 144*t - 585)*(t - 4))/(16*((4*t + 27)^2 - 144*t - 585)^2 + 9*((4*t + 27)^2 - 344*t - 585)^2)^(3/2)"
      ]
     },
     "metadata": {},
     "output_type": "display_data"
    }
   ],
   "source": [
    "k_t = (reparamprime[0]*reparamprimeprime[1] - reparamprimeprime[0]*reparamprime[1]) / (reparamprimenorm^3)\n",
    "show(k_t)"
   ]
  },
  {
   "cell_type": "code",
   "execution_count": 25,
   "id": "ce67651d-8c22-4aae-85f2-e53e4e5c606b",
   "metadata": {},
   "outputs": [
    {
     "data": {
      "image/png": "[encoded data removed]",
      "text/plain": [
       "Graphics object consisting of 1 graphics primitive"
      ]
     },
     "execution_count": 25,
     "metadata": {},
     "output_type": "execute_result"
    }
   ],
   "source": [
    "plot(k_t,-20,20,title='$k(t)$')"
   ]
  },
  {
   "cell_type": "markdown",
   "id": "ecbe9139-c5e3-4c30-9b39-cddfc9b63e11",
   "metadata": {},
   "source": [
    "And its curvature $\\kappa(-t)$ is"
   ]
  },
  {
   "cell_type": "code",
   "execution_count": 26,
   "id": "cd5cd4c1-baa0-47d7-8c80-343f0bfe7b49",
   "metadata": {},
   "outputs": [
    {
     "data": {
      "text/html": [
       "<html>\\[\\newcommand{\\Bold}[1]{\\mathbf{#1}}-\\frac{69120 \\, {\\left({\\left({\\left(4 \\, t - 27\\right)}^{2} + 344 \\, t - 585\\right)} {\\left(4 \\, t - 9\\right)} - 4 \\, {\\left({\\left(4 \\, t - 27\\right)}^{2} + 144 \\, t - 585\\right)} {\\left(t + 4\\right)}\\right)}}{{\\left(9 \\, {\\left({\\left(4 \\, t - 27\\right)}^{2} + 344 \\, t - 585\\right)}^{2} + 16 \\, {\\left({\\left(4 \\, t - 27\\right)}^{2} + 144 \\, t - 585\\right)}^{2}\\right)}^{\\frac{3}{2}}}\\]</html>"
      ],
      "text/latex": [
       "$$\\newcommand{\\Bold}[1]{\\mathbf{#1}}-\\frac{69120 \\, {\\left({\\left({\\left(4 \\, t - 27\\right)}^{2} + 344 \\, t - 585\\right)} {\\left(4 \\, t - 9\\right)} - 4 \\, {\\left({\\left(4 \\, t - 27\\right)}^{2} + 144 \\, t - 585\\right)} {\\left(t + 4\\right)}\\right)}}{{\\left(9 \\, {\\left({\\left(4 \\, t - 27\\right)}^{2} + 344 \\, t - 585\\right)}^{2} + 16 \\, {\\left({\\left(4 \\, t - 27\\right)}^{2} + 144 \\, t - 585\\right)}^{2}\\right)}^{\\frac{3}{2}}}$$"
      ],
      "text/plain": [
       "-69120*(((4*t - 27)^2 + 344*t - 585)*(4*t - 9) - 4*((4*t - 27)^2 + 144*t - 585)*(t + 4))/(9*((4*t - 27)^2 + 344*t - 585)^2 + 16*((4*t - 27)^2 + 144*t - 585)^2)^(3/2)"
      ]
     },
     "metadata": {},
     "output_type": "display_data"
    }
   ],
   "source": [
    "k_minust = k_t(t=-t)\n",
    "show(k_minust)"
   ]
  },
  {
   "cell_type": "code",
   "execution_count": 27,
   "id": "3c1535af-5e73-4371-80bd-1cc0849cbcd3",
   "metadata": {},
   "outputs": [
    {
     "data": {
      "image/png": "[encoded data removed]",
      "text/plain": [
       "Graphics object consisting of 1 graphics primitive"
      ]
     },
     "execution_count": 27,
     "metadata": {},
     "output_type": "execute_result"
    }
   ],
   "source": [
    "plot(k_minust,-20,20,title='$k(-t)$')"
   ]
  },
  {
   "cell_type": "markdown",
   "id": "1ccdd8a4-4a26-4dd7-95e0-d5ad78bd8ea9",
   "metadata": {},
   "source": [
    "Apparently, it seems that $\\kappa(t)=\\kappa(-t)$. We check if the subtraction is exactly zero."
   ]
  },
  {
   "cell_type": "code",
   "execution_count": 28,
   "id": "425e98a1-5deb-4ca6-a8b0-6d252e9fcd27",
   "metadata": {},
   "outputs": [
    {
     "data": {
      "text/plain": [
       "0"
      ]
     },
     "execution_count": 28,
     "metadata": {},
     "output_type": "execute_result"
    }
   ],
   "source": [
    "(k_t-k_minust).full_simplify()"
   ]
  },
  {
   "cell_type": "markdown",
   "id": "5efb94e4-e13b-4156-9eca-ad87bcf68538",
   "metadata": {},
   "source": [
    "Indeed, $\\kappa(t)$ is an even function. As we can see in the graph of the curve in question 3, there exists a certain symmetry around the point $(2,1)$. The reparametrization allowed us to fix the centre of symmetry at $t=0$ such that the same curvature is obtained regardless of whether we vary the parameter in the positive or negative direction."
   ]
  },
  {
   "cell_type": "markdown",
   "id": "0ff952ef-aae1-4fec-a812-6437464acd74",
   "metadata": {},
   "source": [
    "---------------------------"
   ]
  },
  {
   "cell_type": "markdown",
   "id": "32b33081-da64-4874-81f4-281a5944e95b",
   "metadata": {},
   "source": [
    "#### Question 8: Compute the evolute and plot it along with the curve."
   ]
  },
  {
   "cell_type": "markdown",
   "id": "3a57f3d2-edfd-4b8c-a138-ced6bf432b96",
   "metadata": {},
   "source": [
    "The formula for the evolute is"
   ]
  },
  {
   "cell_type": "markdown",
   "id": "2009e349-e6fa-4ae9-a5e4-2a92267b4dcf",
   "metadata": {},
   "source": [
    "$$\\mathbf{x}+\\frac{||\\mathbf{x}'||^2}{\\text{det}(\\mathbf{x}',\\mathbf{x}'')}\\mathbf{x}'^{\\perp}=\\mathbf{x}+\\frac{||\\mathbf{x}'||^2}{x'y''-x''y'}(-y',x')$$"
   ]
  },
  {
   "cell_type": "code",
   "execution_count": 29,
   "id": "3706bff3-c373-47ea-b040-fde6c85c2e46",
   "metadata": {},
   "outputs": [],
   "source": [
    "evolute = reparam + ((reparamprimenorm^2)/(reparamprime[0]*reparamprimeprime[1]-reparamprimeprime[0]*reparamprime[1]))*vector([-reparamprime[1],reparamprime[0]])"
   ]
  },
  {
   "cell_type": "code",
   "execution_count": 30,
   "id": "72964f3a-1936-43da-b697-c7e25ce3d307",
   "metadata": {},
   "outputs": [
    {
     "data": {
      "image/png": "[encoded data removed]",
      "text/plain": [
       "Graphics object consisting of 2 graphics primitives"
      ]
     },
     "metadata": {},
     "output_type": "display_data"
    }
   ],
   "source": [
    "plotcurve = parametric_plot(reparam,(t,-6,6),color='blue',legend_label='Curve')\n",
    "plotevolute = parametric_plot(evolute,(t,-2,2),color='red',legend_label='Evolute')\n",
    "show(plotcurve+plotevolute,axes_labels=['$x$','$y$'])"
   ]
  },
  {
   "cell_type": "markdown",
   "id": "8dabcb9c-d439-4391-b4e3-fbab05940b77",
   "metadata": {},
   "source": [
    "It is known that the values of the parameter for which the curve has a vertex coincide with the values for which the evolute is not regular. Indeed, this is clearly seen at $t=0$ where the derivative of the curvature of the curve is zero while the evolute has a cusp indicating that it is not regular at $t=0$."
   ]
  },
  {
   "cell_type": "code",
   "execution_count": null,
   "id": "a0cf71bc-3c13-4f58-92db-92f35e3dd6e0",
   "metadata": {},
   "outputs": [],
   "source": []
  }
 ],
 "metadata": {
  "kernelspec": {
   "display_name": "SageMath 9.4",
   "language": "sage",
   "name": "sagemath"
  },
  "language_info": {
   "codemirror_mode": {
    "name": "ipython",
    "version": 3
   },
   "file_extension": ".py",
   "mimetype": "text/x-python",
   "name": "python",
   "nbconvert_exporter": "python",
   "pygments_lexer": "ipython3",
   "version": "3.9.2"
  }
 },
 "nbformat": 4,
 "nbformat_minor": 5
}
